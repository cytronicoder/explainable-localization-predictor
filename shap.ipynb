{
 "cells": [
  {
   "cell_type": "markdown",
   "id": "bd927c6a",
   "metadata": {},
   "source": []
  },
  {
   "cell_type": "code",
   "execution_count": null,
   "id": "5cade1ba",
   "metadata": {},
   "outputs": [],
   "source": [
    "import joblib\n",
    "import numpy as np\n",
    "import pandas as pd\n",
    "import shap"
   ]
  },
  {
   "cell_type": "code",
   "execution_count": null,
   "id": "935f7c0c",
   "metadata": {},
   "outputs": [],
   "source": [
    "best_model = joblib.load(\"results/models/rf_best.pkl\")"
   ]
  },
  {
   "cell_type": "code",
   "execution_count": null,
   "id": "a1129127",
   "metadata": {},
   "outputs": [],
   "source": [
    "explainer = shap.TreeExplainer(best_model.named_steps[\"rf\"])"
   ]
  },
  {
   "cell_type": "code",
   "execution_count": null,
   "id": "fd8e9823",
   "metadata": {},
   "outputs": [],
   "source": [
    "X_train = pd.read_csv(\"data/processed/X/train.csv\")\n",
    "X_train = X_train.select_dtypes(include=[np.number])\n",
    "\n",
    "X_test = pd.read_csv(\"data/processed/X/test.csv\")\n",
    "X_test = X_test.select_dtypes(include=[np.number])\n",
    "X_test = X_test[X_train.columns]"
   ]
  },
  {
   "cell_type": "code",
   "execution_count": null,
   "id": "487cc876",
   "metadata": {},
   "outputs": [],
   "source": [
    "shap_values = explainer.shap_values(X_test)"
   ]
  },
  {
   "cell_type": "code",
   "execution_count": null,
   "id": "842e1ca5",
   "metadata": {},
   "outputs": [],
   "source": [
    "shap.summary_plot(\n",
    "    shap_values,\n",
    "    X_test,\n",
    "    feature_names=X_test.columns,\n",
    "    class_names=best_model.named_steps['rf'].classes_\n",
    ")"
   ]
  }
 ],
 "metadata": {
  "kernelspec": {
   "display_name": "eslp",
   "language": "python",
   "name": "python3"
  },
  "language_info": {
   "codemirror_mode": {
    "name": "ipython",
    "version": 3
   },
   "file_extension": ".py",
   "mimetype": "text/x-python",
   "name": "python",
   "nbconvert_exporter": "python",
   "pygments_lexer": "ipython3",
   "version": "3.13.5"
  }
 },
 "nbformat": 4,
 "nbformat_minor": 5
}
